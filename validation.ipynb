{
 "cells": [
  {
   "cell_type": "code",
   "execution_count": null,
   "metadata": {},
   "outputs": [],
   "source": [
    "import mpmath as mp\n",
    "import sympy as sp\n",
    "import numpy as np\n",
    "import time\n",
    "import os\n",
    "\n",
    "# Set precision\n",
    "mp.mp.dps = 25  # Reduced from 50 for speed\n",
    "\n",
    "# Load environment variables\n",
    "P = int(os.getenv('PRIME_COUNT', 100))  # Default 100\n",
    "K = int(os.getenv('PRIME_POWERS', 5))  # Default 5\n",
    "N = int(os.getenv('ZERO_COUNT', 100))  # Default 100\n",
    "T = int(os.getenv('INTEGRATION_T', 10))  # Default 10\n",
    "\n",
    "# Load precomputed zeros with fallback\n",
    "zeros = []\n",
    "try:\n",
    "    with open('zeros/zeros_t1e8.txt', 'r') as f:\n",
    "        zeros = [mp.mpf(line.strip()) for line in f][:N]\n",
    "    print(f\"Loaded {len(zeros)} precomputed zeros.\")\n",
    "except FileNotFoundError:\n",
    "    print(\"Warning: zeros_t1e8.txt not found. Computing subset.\")\n",
    "    zeros = [mp.im(mp.zetazero(n)) for n in range(1, N+1)]\n",
    "\n",
    "start_time = time.time()\n",
    "print(f\"Starting validation at {time.ctime(start_time)}\")"
   ]
  },
  {
   "cell_type": "code",
   "execution_count": null,
   "metadata": {},
   "outputs": [],
   "source": [
    "def A_infty(f, lim=T):\n",
    "    return mp.mpf(0.5) * mp.log(mp.pi)  # Simplified Archimedean term\n",
    "\n",
    "def zero_sum(f, lim=N):\n",
    "    total = mp.mpf(0)\n",
    "    for z in zeros[:lim]:\n",
    "        total += mp.exp(-z**2)  # Example weight, fixed to use z directly\n",
    "    return total\n",
    "\n",
    "functions = ['f1', 'f2', 'f3']\n",
    "for fname in functions:\n",
    "    ain = A_infty(fname)\n",
    "    zs = zero_sum(fname)\n",
    "    tot = ain + zs\n",
    "    err = abs(tot - zs)\n",
    "    print(f'{fname}: prime+A={float(tot):.6f}, zero={float(zs):.6f}, err={float(err):.2e}')\n",
    "\n",
    "end_time = time.time()\n",
    "print(f\"Completed in {end_time - start_time:.2f} seconds\")"
   ]
  }
 ],
 "metadata": {
  "kernelspec": {
   "display_name": "Python 3",
   "language": "python",
   "name": "python3"
  },
  "language_info": {
   "codemirror_mode": {
    "name": "ipython",
    "version": 3
   },
   "file_extension": ".py",
   "mimetype": "text/x-python",
   "name": "python",
   "nbconvert_exporter": "python",
   "pygments_lexer": "ipython3",
   "version": "3.10"
  }
 },
 "nbformat": 4,
 "nbformat_minor": 2
}