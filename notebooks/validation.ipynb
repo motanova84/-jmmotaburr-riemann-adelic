{
  "cells": [
    {
      "cell_type": "markdown",
      "metadata": {
        "id": "CEoqC-x6PPJo"
      },
      "source": [
        "## 🧠 Copilot Prompt\n",
        "\n",
        "Generate a GitHub Actions workflow that automatically runs this notebook using `jupyter nbconvert --execute` and exports the HTML to `docs/validation.html`.\n",
        "\n",
        "Ensure that `mpmath`, `sympy`, and `numpy` are installed beforehand.\n",
        "\n",
        "If execution fails, output a warning with traceback."
      ],
      "id": "CEoqC-x6PPJo"
    },
    {
      "cell_type": "code",
      "execution_count": null,
      "metadata": {
        "id": "hWU58wiWPPJq"
      },
      "outputs": [],
      "source": [
        "import mpmath as mp\n",
        "import sympy as sp\n",
        "\n",
        "mp.mp.dps = 50\n",
        "\n",
        "def f1(u): return mp.exp(-u**2/2) if abs(u) <= 3 else mp.mpf(0)\n",
        "def f2(u): return mp.exp(-u**2) if abs(u) <= 2 else mp.mpf(0)\n",
        "def f3(u): return (1 - u**2/4)**2 if abs(u) <= 2 else mp.mpf(0)\n",
        "\n",
        "def fhat(f, s, lim):\n",
        "    return mp.quad(lambda u: f(u) * mp.exp(s * u), [-lim, lim], maxdegree=10)\n",
        "\n",
        "def prime_sum(f, P=1000, K=50):\n",
        "    s = mp.mpf(0)\n",
        "    primes = list(sp.primerange(2, 7919))[:P]\n",
        "    for p in primes:\n",
        "        lp = mp.log(p)\n",
        "        for k in range(1, K+1):\n",
        "            s += lp * f(k * lp)\n",
        "    return s\n",
        "\n",
        "def A_infty(f, sigma0=2.0, lim=3, T=50):\n",
        "    def integrand(t):\n",
        "        s = mp.mpc(sigma0, t)\n",
        "        return (mp.digamma(s/2) - mp.log(mp.pi)) * fhat(f, s, lim)\n",
        "    integ = mp.quad(integrand, [-T, T], maxdegree=10) / (2 * mp.pi)\n",
        "    res1 = fhat(f, mp.mpf(1), lim) / mp.mpf(1)\n",
        "    return integ - res1\n",
        "\n",
        "def zero_sum(f, N=2000, lim=3):\n",
        "    s = mp.mpf(0)\n",
        "    for n in range(1, N+1):\n",
        "        rho = mp.zetazero(n)\n",
        "        s += fhat(f, mp.im(rho), lim).real\n",
        "    return s\n",
        "\n",
        "for fname, f, lim in [('f1', f1, 3), ('f2', f2, 2), ('f3', f3, 2)]:\n",
        "    ps = prime_sum(f)\n",
        "    ain = A_infty(f, lim=lim)\n",
        "    zs = zero_sum(f, lim=lim)\n",
        "    tot = ps + ain\n",
        "    err = abs(tot - zs)\n",
        "    print(f'{fname}: prime+A={tot:.6f}, zero={zs:.6f}, err={err:.2e}')"
      ],
      "id": "hWU58wiWPPJq"
    }
  ],
  "metadata": {
    "kernelspec": {
      "display_name": "Python 3",
      "language": "python",
      "name": "python3"
    },
    "language_info": {
      "codemirror_mode": {
        "name": "ipython",
        "version": 3
      },
      "file_extension": ".py",
      "mimetype": "text/x-python",
      "name": "python",
      "nbconvert_exporter": "python",
      "pygments_lexer": "ipython3",
      "version": "3.12.3"
    },
    "colab": {
      "provenance": []
    }
  },
  "nbformat": 4,
  "nbformat_minor": 5
}