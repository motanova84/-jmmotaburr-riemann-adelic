{
  "cells": [
    {
      "cell_type": "markdown",
      "metadata": {
        "id": "CEoqC-x6PPJo"
      },
      "source": [
        "## 🧠 Copilot Prompt\n",
        "\n",
        "Generate a GitHub Actions workflow that automatically runs this notebook using `jupyter nbconvert --execute` and exports the HTML to `docs/validation.html`.\n",
        "\n",
        "Ensure that `mpmath`, `sympy`, and `numpy` are installed beforehand.\n",
        "\n",
        "If execution fails, output a warning with traceback.\n",
        "\n",
        "## Optimization Notes\n",
        "\n",
        "This notebook has been optimized to prevent GitHub Actions timeout by:\n",
        "- Reducing precision from 50 to 25 decimal places\n",
        "- Using precomputed zeros instead of mp.zetazero()\n",
        "- Reducing computational parameters (N, P, K)\n",
        "- Adding execution time monitoring"
      ],
      "id": "CEoqC-x6PPJo"
    },
    {
      "cell_type": "code",
      "execution_count": null,
      "metadata": {
        "id": "setup-imports"
      },
      "outputs": [],
      "source": [
        "# Import libraries with optimized precision\n",
        "import mpmath as mp\n",
        "import sympy as sp\n",
        "import numpy as np\n",
        "import time\n",
        "import os\n",
        "\n",
        "# Set precision (reduced from 50 to 25 for faster execution)\n",
        "mp.mp.dps = 25\n",
        "\n",
        "# Load precomputed zeros if available\n",
        "zeros_data = []\n",
        "try:\n",
        "    zeros_file = 'zeros/zeros_t1e8.txt'\n",
        "    if not os.path.exists(zeros_file):\n",
        "        # Try relative path from notebooks directory\n",
        "        zeros_file = '../zeros/zeros_t1e8.txt'\n",
        "    \n",
        "    with open(zeros_file, 'r') as f:\n",
        "        for line in f:\n",
        "            zeros_data.append(mp.mpf(line.strip()))\n",
        "    print(f\"✅ Loaded {len(zeros_data)} precomputed zeros from {zeros_file}\")\nexcept FileNotFoundError:\n",
        "    print(\"⚠️ Warning: Precomputed zeros not found. Will compute a smaller subset.\")\n",
        "    # Fallback: compute small subset of zeros\n",
        "    for n in range(1, 101):  # Only 100 zeros as fallback\n",
        "        zeros_data.append(mp.im(mp.zetazero(n)))\n",
        "    print(f\"✅ Computed {len(zeros_data)} zeros as fallback\")\n",
        "\n",
        "# Log start time\n",
        "start_time = time.time()\n",
        "print(f\"🚀 Starting validation at {time.ctime(start_time)}\")\n",
        "print(f\"📊 Precision: {mp.mp.dps} decimal places\")"
      ],
      "id": "setup-imports"
    },
    {
      "cell_type": "code",
      "execution_count": null,
      "metadata": {
        "id": "define-functions"
      },
      "outputs": [],
      "source": [
        "# Define test functions (unchanged for mathematical accuracy)\n",
        "def f1(u): return mp.exp(-u**2/2) if abs(u) <= 3 else mp.mpf(0)\n",
        "def f2(u): return mp.exp(-u**2) if abs(u) <= 2 else mp.mpf(0)\n",
        "def f3(u): return (1 - u**2/4)**2 if abs(u) <= 2 else mp.mpf(0)\n",
        "\n",
        "def fhat(f, s, lim):\n",
        "    \"\"\"Fourier transform - reduced maxdegree for speed\"\"\"\n",
        "    return mp.quad(lambda u: f(u) * mp.exp(s * u), [-lim, lim], maxdegree=8)  # Reduced from 10\n",
        "\n",
        "print(\"✅ Test functions defined\")"
      ],
      "id": "define-functions"
    },
    {
      "cell_type": "code",
      "execution_count": null,
      "metadata": {
        "id": "define-sums"
      },
      "outputs": [],
      "source": [
        "def prime_sum(f, P=100, K=5):  # Reduced even further for CI\n",
        "    \"\"\"Prime sum - reduced parameters for speed\"\"\"\n",
        "    s = mp.mpf(0)\n",
        "    primes = list(sp.primerange(2, 7919))[:P]\n",
        "    for p in primes:\n",
        "        lp = mp.log(p)\n",
        "        for k in range(1, K+1):\n",
        "            s += lp * f(k * lp)\n",
        "    print(f\"  Prime sum computed with P={P}, K={K} ({P*K} terms)\")\n",
        "    return s\n",
        "\n",
        "def A_infty(f, sigma0=2.0, lim=3, T=10):  # Reduced T even further for CI\n",
        "    \"\"\"Archimedean contribution - reduced integration range\"\"\"\n",
        "    def integrand(t):\n",
        "        s = mp.mpc(sigma0, t)\n",
        "        return (mp.digamma(s/2) - mp.log(mp.pi)) * fhat(f, s, lim)\n",
        "    integ = mp.quad(integrand, [-T, T], maxdegree=8) / (2 * mp.pi)  # Reduced maxdegree\n",
        "    res1 = fhat(f, mp.mpf(1), lim) / mp.mpf(1)\n",
        "    print(f\"  Archimedean sum computed with T={T}\")\n",
        "    return integ - res1\n",
        "\n",
        "def zero_sum_precomputed(f, zeros, N=100, lim=3):  # Reduced even further for CI\n",
        "    \"\"\"Zero sum using precomputed zeros - much faster than mp.zetazero\"\"\"\n",
        "    s = mp.mpf(0)\n",
        "    N_actual = min(N, len(zeros))\n",
        "    for n in range(N_actual):\n",
        "        gamma = zeros[n]\n",
        "        s += fhat(f, 1j * gamma, lim).real\n",
        "    print(f\"  Zero sum computed with {N_actual} precomputed zeros\")\n",
        "    return s\n",
        "\n",
        "def zero_sum_fallback(f, N=200, lim=3):  # Much smaller fallback\n",
        "    \"\"\"Fallback zero sum using mp.zetazero - for when precomputed zeros unavailable\"\"\"\n",
        "    s = mp.mpf(0)\n",
        "    print(f\"  Computing {N} zeros using mp.zetazero (slower)...\")\n",
        "    for n in range(1, N+1):\n",
        "        rho = mp.zetazero(n)\n",
        "        s += fhat(f, mp.im(rho), lim).real\n",
        "        if n % 50 == 0:  # Progress indicator\n",
        "            print(f\"    Progress: {n}/{N} zeros computed\")\n",
        "    return s\n",
        "\n",
        "print(\"✅ Computation functions defined with optimized parameters\")"
      ],
      "id": "define-sums"
    },
    {
      "cell_type": "code",
      "execution_count": null,
      "metadata": {
        "id": "main-computation"
      },
      "outputs": [],
      "source": [
        "# Main validation computation with timing\n",
        "test_cases = [('f1', f1, 3), ('f2', f2, 2), ('f3', f3, 2)]\n",
        "results = []\n",
        "\n",
        "for i, (fname, f, lim) in enumerate(test_cases):\n",
        "    print(f\"\\n🔬 Computing {fname} ({i+1}/{len(test_cases)})...\")\n",
        "    case_start = time.time()\n",
        "    \n",
        "    # Prime sum\n",
        "    print(\"  Computing prime sum...\")\n",
        "    ps = prime_sum(f)\n",
        "    \n",
        "    # Archimedean contribution\n",
        "    print(\"  Computing Archimedean contribution...\")\n",
        "    ain = A_infty(f, lim=lim)\n",
        "    \n",
        "    # Zero sum - use precomputed if available\n",
        "    print(\"  Computing zero sum...\")\n",
        "    if zeros_data:\n",
        "        zs = zero_sum_precomputed(f, zeros_data, lim=lim)\n",
        "    else:\n",
        "        zs = zero_sum_fallback(f, lim=lim)\n",
        "    \n",
        "    # Calculate results\n",
        "    tot = ps + ain\n",
        "    err = abs(tot - zs)\n",
        "    case_time = time.time() - case_start\n",
        "    \n",
        "    result = {\n",
        "        'function': fname,\n",
        "        'prime_archimedean': float(tot.real),\n",
        "        'zero_side': float(zs.real),\n",
        "        'absolute_error': float(err),\n",
        "        'relative_error': float(err / abs(tot)) if abs(tot) > 0 else float('inf'),\n",
        "        'computation_time': case_time\n",
        "    }\n",
        "    results.append(result)\n",
        "    \n",
        "    print(f\"  ✅ {fname}: prime+A={float(tot.real):.6f}, zero={float(zs.real):.6f}, err={float(err):.2e}, time={case_time:.1f}s\")\n",
        "\n",
        "total_time = time.time() - start_time\n",
        "print(f\"\\n🎉 All computations completed in {total_time:.1f} seconds\")"
      ],
      "id": "main-computation"
    },
    {
      "cell_type": "code",
      "execution_count": null,
      "metadata": {
        "id": "summary-results"
      },
      "outputs": [],
      "source": [
        "# Summary and results table\n",
        "print(\"\\n📊 VALIDATION RESULTS SUMMARY\")\n",
        "print(\"=\" * 60)\n",
        "print(f\"{'Function':<8} {'Prime+Arch':<12} {'Zero Side':<12} {'Error':<10} {'Time(s)':<8}\")\n",
        "print(\"-\" * 60)\n",
        "\n",
        "for r in results:\n",
        "    print(f\"{r['function']:<8} {r['prime_archimedean']:<12.6f} {r['zero_side']:<12.6f} {r['absolute_error']:<10.2e} {r['computation_time']:<8.1f}\")\n",
        "\n",
        "print(\"-\" * 60)\n",
        "print(f\"Total execution time: {total_time:.1f} seconds\")\n",
        "print(f\"Precision used: {mp.mp.dps} decimal places\")\n",
        "print(f\"Zeros source: {'Precomputed file' if zeros_data else 'mp.zetazero fallback'}\")\n",
        "\n",
        "# Check if all errors are reasonable\n",
        "max_error = max(r['absolute_error'] for r in results)\n",
        "print(f\"\\nMaximum absolute error: {max_error:.2e}\")\n",
        "if max_error < 1e-4:\n",
        "    print(\"✅ All validations PASSED (errors < 1e-4)\")\n",
        "elif max_error < 1e-2:\n",
        "    print(\"⚠️  Validations acceptable but with reduced precision\")\n",
        "else:\n",
        "    print(\"❌ Large errors detected - check computation parameters\")\n",
        "    \n",
        "print(f\"\\n🕐 Completed at {time.ctime()}\")"
      ],
      "id": "summary-results"
    }
  ],
  "metadata": {
    "kernelspec": {
      "display_name": "Python 3",
      "language": "python",
      "name": "python3"
    },
    "language_info": {
      "codemirror_mode": {
        "name": "ipython",
        "version": 3
      },
      "file_extension": ".py",
      "mimetype": "text/x-python",
      "name": "python",
      "nbconvert_exporter": "python",
      "pygments_lexer": "ipython3",
      "version": "3.12.3"
    },
    "colab": {
      "provenance": []
    }
  },
  "nbformat": 4,
  "nbformat_minor": 5
}