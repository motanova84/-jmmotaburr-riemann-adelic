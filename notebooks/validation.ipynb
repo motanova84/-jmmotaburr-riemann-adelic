{
 "cells": [
  {
   "cell_type": "markdown",
   "metadata": {},
   "source": [
    "## 🧠 Copilot Prompt\n",
    "\n",
    "Generate a GitHub Actions workflow that automatically runs this notebook using `jupyter nbconvert --execute` and exports the HTML to `docs/validation.html`.\n",
    "\n",
    "Ensure that `mpmath`, `sympy`, and `numpy` are installed beforehand.\n",
    "\n",
    "If execution fails, output a warning with traceback."
   ]
  },
  {
   "cell_type": "code",
   "execution_count": null,
   "metadata": {},
   "outputs": [],
   "source": [
    "import mpmath as mp\n",
    "import numpy as np\n",
    "import time\n",
    "import os\n",
    "\n",
    "# Set precision and parameters\n",
    "mp.mp.dps = 25\n",
    "P = int(os.getenv('PRIME_COUNT', 100))\n",
    "N = int(os.getenv('ZERO_COUNT', 100))\n",
    "T = int(os.getenv('INTEGRATION_T', 10))\n",
    "\n",
    "# Load precomputed zeros\n",
    "zeros = []\n",
    "try:\n",
    "    with open('zeros/zeros_t1e8.txt', 'r') as f:\n",
    "        zeros = [mp.mpf(line.strip()) for line in f][:N]\n",
    "    print(f\"Loaded {len(zeros)} zeros from file\")\n",
    "except FileNotFoundError:\n",
    "    print(\"Warning: zeros_t1e8.txt not found. Computing subset.\")\n",
    "    zeros = [mp.mpf(14.134725 + 2 * np.pi * n / np.log(n+1)) for n in range(N)]\n",
    "    print(f\"Generated {len(zeros)} approximate zeros\")\n",
    "\n",
    "start_time = time.time()\n",
    "print(f\"Starting validation at {time.ctime(start_time)}\")\n"
   ]
  },
  {
   "cell_type": "code",
   "execution_count": null,
   "metadata": {},
   "outputs": [],
   "source": [
    "def prime_sum(f, P):\n",
    "    \"\"\"Calculate sum over primes using test function f\"\"\"\n",
    "    total = mp.mpf(0)\n",
    "    count = 0\n",
    "    for p in range(2, P + 1):\n",
    "        # Simple primality test for small numbers\n",
    "        is_prime = True\n",
    "        if p > 1:\n",
    "            for i in range(2, int(p**0.5) + 1):\n",
    "                if p % i == 0:\n",
    "                    is_prime = False\n",
    "                    break\n",
    "        if is_prime and p > 1:\n",
    "            total += mp.log(p) * f(mp.log(p))\n",
    "            count += 1\n",
    "    print(f\"Processed {count} primes up to {P}\")\n",
    "    return total\n",
    "\n",
    "def zero_sum(f, zeros):\n",
    "    \"\"\"Calculate sum over zeros using test function f\"\"\"\n",
    "    total = mp.mpf(0)\n",
    "    for z in zeros:\n",
    "        total += f(z)\n",
    "    print(f\"Processed {len(zeros)} zeros\")\n",
    "    return total\n",
    "\n",
    "# Define test function\n",
    "test_function = lambda x: mp.exp(-x**2)\n",
    "\n",
    "# Calculate prime and zero sums\n",
    "print(\"\\nCalculating prime sum...\")\n",
    "ps = prime_sum(test_function, P)\n",
    "\n",
    "print(\"\\nCalculating zero sum...\")\n",
    "zs = zero_sum(test_function, zeros)\n",
    "\n",
    "# Display results\n",
    "print(f\"\\n=== VALIDATION RESULTS ===\")\n",
    "print(f\"Prime sum: {float(ps):.6f}\")\n",
    "print(f\"Zero sum:  {float(zs):.6f}\")\n",
    "print(f\"Difference: {float(abs(ps - zs)):.2e}\")\n",
    "print(f\"Relative error: {float(abs(ps - zs) / abs(ps)):.2e}\" if abs(ps) > 0 else \"Relative error: inf\")\n",
    "\n",
    "end_time = time.time()\n",
    "print(f\"\\nCompleted in {end_time - start_time:.2f} seconds\")\n",
    "print(f\"Parameters used: P={P}, N={N}, T={T}\")\n"
   ]
  }
 ],
 "metadata": {
  "kernelspec": {
   "display_name": "Python 3",
   "language": "python",
   "name": "python3"
  },
  "language_info": {
   "codemirror_mode": {
    "name": "ipython",
    "version": 3
   },
   "file_extension": ".py",
   "mimetype": "text/x-python",
   "name": "python",
   "nbconvert_exporter": "python",
   "pygments_lexer": "ipython3",
   "version": "3.10"
  }
 },
 "nbformat": 4,
 "nbformat_minor": 2
}