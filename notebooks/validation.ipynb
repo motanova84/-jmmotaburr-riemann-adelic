{
 "cells": [
  {
   "cell_type": "markdown",
   "id": "CEoqC-x6PPJo",
   "metadata": {
    "id": "CEoqC-x6PPJo"
   },
   "source": [
    "## 🧠 Copilot Prompt\n",
    "\n",
    "Generate a GitHub Actions workflow that automatically runs this notebook using `jupyter nbconvert --execute` and exports the HTML to `docs/validation.html`.\n",
    "\n",
    "Ensure that `mpmath`, `sympy`, and `numpy` are installed beforehand.\n",
    "\n",
    "If execution fails, output a warning with traceback."
   ]
  },
  {
   "cell_type": "code",
   "execution_count": null,
   "id": "hWU58wiWPPJq",
   "metadata": {
    "id": "hWU58wiWPPJq"
   },
   "outputs": [],
   "source": [
    "import mpmath as mp\n",
    "import sympy as sp\n",
    "import time\n",
    "\n",
    "# Optimized precision for faster computation while maintaining mathematical validity\n",
    "mp.mp.dps = 15  # Reduced from 50 for much faster computation\n",
    "\n",
    "print(f'🔬 Starting Riemann Hypothesis validation with precision {mp.mp.dps} digits')\n",
    "print(f'⏱️  Execution started at: {time.strftime(\"%H:%M:%S\")}')\n",
    "\n",
    "def f1(u): return mp.exp(-u**2/2) if abs(u) <= 3 else mp.mpf(0)\n",
    "def f2(u): return mp.exp(-u**2) if abs(u) <= 2 else mp.mpf(0)\n",
    "def f3(u): return (1 - u**2/4)**2 if abs(u) <= 2 else mp.mpf(0)\n",
    "\n",
    "def fhat(f, s, lim):\n",
    "    return mp.quad(lambda u: f(u) * mp.exp(s * u), [-lim, lim], maxdegree=6)  # Further reduced\n",
    "\n",
    "def prime_sum(f, P=200, K=10):  # Further reduced parameters\n",
    "    s = mp.mpf(0)\n",
    "    primes = list(sp.primerange(2, 7919))[:P]\n",
    "    print(f'  📊 Computing prime sum with {len(primes)} primes, K={K}')\n",
    "    for i, p in enumerate(primes):\n",
    "        if i % 50 == 0:  # Reduced reporting frequency\n",
    "            print(f'    Progress: {i}/{len(primes)} primes processed')\n",
    "        lp = mp.log(p)\n",
    "        for k in range(1, K+1):\n",
    "            s += lp * f(k * lp)\n",
    "    return s\n",
    "\n",
    "def A_infty(f, sigma0=2.0, lim=2.5, T=20):  # Reduced T and lim\n",
    "    print(f'  🔮 Computing A_infty with T={T}, lim={lim}')\n",
    "    def integrand(t):\n",
    "        s = mp.mpc(sigma0, t)\n",
    "        return (mp.digamma(s/2) - mp.log(mp.pi)) * fhat(f, s, lim)\n",
    "    integ = mp.quad(integrand, [-T, T], maxdegree=6) / (2 * mp.pi)\n",
    "    res1 = fhat(f, mp.mpf(1), lim) / mp.mpf(1)\n",
    "    return integ - res1\n",
    "\n",
    "def zero_sum(f, N=50, lim=2.5):  # Further reduced N and lim\n",
    "    s = mp.mpf(0)\n",
    "    print(f'  ⚡ Computing zero sum with N={N} zeros')\n",
    "    for n in range(1, N+1):\n",
    "        if n % 15 == 0:  # More frequent progress updates\n",
    "            print(f'    Progress: {n}/{N} zeros processed')\n",
    "        rho = mp.zetazero(n)\n",
    "        s += fhat(f, mp.im(rho), lim).real\n",
    "    return s\n",
    "\n",
    "print('\\n🧮 Running validation for test functions f1, f2, f3...')\n",
    "start_time = time.time()\n",
    "\n",
    "for i, (fname, f, lim) in enumerate([('f1', f1, 2.5), ('f2', f2, 2.0), ('f3', f3, 2.0)]):\n",
    "    print(f'\\n📋 Testing function {fname} ({i+1}/3):')\n",
    "    func_start = time.time()\n",
    "    \n",
    "    ps = prime_sum(f)\n",
    "    ain = A_infty(f, lim=lim)\n",
    "    zs = zero_sum(f, lim=lim)\n",
    "    tot = ps + ain\n",
    "    err = abs(tot - zs)\n",
    "    \n",
    "    func_time = time.time() - func_start\n",
    "    # Fixed formatting issue by ensuring real numbers\n",
    "    print(f'  ✅ {fname}: prime+A={float(tot.real):.6f}, zero={float(zs.real):.6f}, err={float(err):.2e} (took {func_time:.1f}s)')\n",
    "\n",
    "total_time = time.time() - start_time\n",
    "print(f'\\n🎯 Validation completed in {total_time:.1f} seconds')\n",
    "print(f'⏰ Finished at: {time.strftime(\"%H:%M:%S\")}')\n",
    "print('\\n📝 Note: This is a computational validation of the Riemann Hypothesis explicit formula.')\n",
    "print('   The validation uses reduced parameters for demonstration purposes.')\n",
    "print('   Small errors (< 1e-6) indicate good agreement between arithmetic and spectral sides.')"
   ]
  }
 ],
 "metadata": {
  "colab": {
   "provenance": []
  },
  "kernelspec": {
   "display_name": "Python 3",
   "language": "python",
   "name": "python3"
  },
  "language_info": {
   "codemirror_mode": {
    "name": "ipython",
    "version": 3
   },
   "file_extension": ".py",
   "mimetype": "text/x-python",
   "name": "python",
   "nbconvert_exporter": "python",
   "pygments_lexer": "ipython3",
   "version": "3.12.3"
  }
 },
 "nbformat": 4,
 "nbformat_minor": 5
}