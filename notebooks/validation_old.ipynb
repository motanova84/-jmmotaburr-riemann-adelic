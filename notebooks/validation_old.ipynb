{
  "cells": [
    {
      "cell_type": "markdown",
      "metadata": {
        "id": "CEoqC-x6PPJo"
      },
      "source": [
        "## 🧠 Copilot Prompt\n",
        "\n",
        "Generate a GitHub Actions workflow that automatically runs this notebook using `jupyter nbconvert --execute` and exports the HTML to `docs/validation.html`.\n",
        "\n",
        "Ensure that `mpmath`, `sympy`, and `numpy` are installed beforehand.\n",
        "\n",
        "If execution fails, output a warning with traceback."
      ],
      "id": "CEoqC-x6PPJo"
    },
    {
      "cell_type": "code",
      "execution_count": null,
      "metadata": {
        "id": "hWU58wiWPPJq"
      },
      "outputs": [],
      "source": [
        "import mpmath as mp\n",
        "import sympy as sp\n",
        "import os\n",
        "\n",
        "# Conditional precision and parameters based on environment\n",
        "# High precision for research, lower for CI to avoid timeouts\n",
        "is_ci = os.getenv('CI', 'false').lower() == 'true'\n",
        "if is_ci:\n",
        "    mp.mp.dps = 15  # Reduced precision for CI\n",
        "    DEFAULT_P = 100   # Fewer primes\n",
        "    DEFAULT_K = 10    # Fewer powers\n",
        "    DEFAULT_N = 50    # Fewer zeros\n",
        "    DEFAULT_T = 10    # Smaller integration range\n",
        "    print(\"🤖 Running in CI mode with reduced parameters for faster execution\")\n",
        "else:\n",
        "    mp.mp.dps = 50   # Full precision for research\n",
        "    DEFAULT_P = 1000\n",
        "    DEFAULT_K = 50\n",
        "    DEFAULT_N = 2000\n",
        "    DEFAULT_T = 50\n",
        "    print(\"🔬 Running in research mode with full precision\")\n",
        "\n",
        "def f1(u): return mp.exp(-u**2/2) if abs(u) <= 3 else mp.mpf(0)\n",
        "def f2(u): return mp.exp(-u**2) if abs(u) <= 2 else mp.mpf(0)\n",
        "def f3(u): return (1 - u**2/4)**2 if abs(u) <= 2 else mp.mpf(0)\n",
        "\n",
        "def fhat(f, s, lim):\n",
        "    # Reduce integration precision for CI\n",
        "    maxdegree = 5 if is_ci else 10\n",
        "    return mp.quad(lambda u: f(u) * mp.exp(s * u), [-lim, lim], maxdegree=maxdegree)\n",
        "\n",
        "def prime_sum(f, P=None, K=None):\n",
        "    if P is None: P = DEFAULT_P\n",
        "    if K is None: K = DEFAULT_K\n",
        "    s = mp.mpf(0)\n",
        "    primes = list(sp.primerange(2, 7919))[:P]\n",
        "    for p in primes:\n",
        "        lp = mp.log(p)\n",
        "        for k in range(1, K+1):\n",
        "            s += lp * f(k * lp)\n",
        "    return s\n",
        "\n",
        "def A_infty(f, sigma0=2.0, lim=3, T=None):\n",
        "    if T is None: T = DEFAULT_T\n",
        "    def integrand(t):\n",
        "        s = mp.mpc(sigma0, t)\n",
        "        return (mp.digamma(s/2) - mp.log(mp.pi)) * fhat(f, s, lim)\n",
        "    # Reduce integration precision for CI\n",
        "    maxdegree = 5 if is_ci else 10\n",
        "    integ = mp.quad(integrand, [-T, T], maxdegree=maxdegree) / (2 * mp.pi)\n",
        "    res1 = fhat(f, mp.mpf(1), lim) / mp.mpf(1)\n",
        "    return integ - res1\n",
        "\n",
        "def zero_sum(f, N=None, lim=3):\n",
        "    if N is None: N = DEFAULT_N\n",
        "    s = mp.mpf(0)\n",
        "    for n in range(1, N+1):\n",
        "        rho = mp.zetazero(n)\n",
        "        s += fhat(f, mp.im(rho), lim).real\n",
        "    return s\n",
        "\n",
        "print(f\"\\n📊 Validation Parameters:\")\n",
        "print(f\"   Precision: {mp.mp.dps} digits\")\n",
        "print(f\"   Primes: {DEFAULT_P}, Powers: {DEFAULT_K}\")\n",
        "print(f\"   Zeros: {DEFAULT_N}, Integration range: ±{DEFAULT_T}\")\n",
        "print(\"\\n🧮 Computing explicit formula validation...\\n\")\n",
        "\n",
        "for fname, f, lim in [('f1', f1, 3), ('f2', f2, 2), ('f3', f3, 2)]:\n",
        "    print(f\"Computing {fname}...\")\n",
        "    ps = prime_sum(f)\n",
        "    ain = A_infty(f, lim=lim)\n",
        "    zs = zero_sum(f, lim=lim)\n",
        "    tot = ps + ain\n",
        "    err = abs(tot - zs)\n",
        "    rel_err = err / abs(tot) if abs(tot) > 0 else 0\n",
        "    print(f'✅ {fname}: prime+A={tot:.6f}, zero={zs:.6f}, err={err:.2e}, rel_err={rel_err:.2e}\\n')\n",
        "\n",
        "print(\"🎉 Validation completed successfully!\")"
      ],
      "id": "hWU58wiWPPJq"
    }
  ],
  "metadata": {
    "kernelspec": {
      "display_name": "Python 3",
      "language": "python",
      "name": "python3"
    },
    "language_info": {
      "codemirror_mode": {
        "name": "ipython",
        "version": 3
      },
      "file_extension": ".py",
      "mimetype": "text/x-python",
      "name": "python",
      "nbconvert_exporter": "python",
      "pygments_lexer": "ipython3",
      "version": "3.12.3"
    },
    "colab": {
      "provenance": []
    }
  },
  "nbformat": 4,
  "nbformat_minor": 5
}