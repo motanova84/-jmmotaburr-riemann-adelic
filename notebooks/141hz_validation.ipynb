{
  "cells": [
    {
      "cell_type": "markdown",
      "metadata": {
        "id": "view-in-github",
        "colab_type": "text"
      },
      "source": [
        "<a href=\"https://colab.research.google.com/github/motanova84/-jmmotaburr-riemann-adelic/blob/main/notebooks/141hz_validation.ipynb\" target=\"_parent\"><img src=\"https://colab.research.google.com/assets/colab-badge.svg\" alt=\"Open In Colab\"/></a>"
      ]
    },
    {
      "cell_type": "markdown",
      "metadata": {
        "id": "2Yme3VXJrR6q"
      },
      "source": [
        "# 🌌 Validación de la Frecuencia 141.7 Hz en GW150914 (y GW250114)\n",
        "\n",
        "**Autor:** José Manuel Mota Burruezo (JMMB Ψ✧)  \n",
        "**Frecuencia objetivo:** `141.7001 Hz`  \n",
        "**Fuente de datos:** [GWOSC – LIGO Open Science Center](https://gwosc.org/)\n",
        "\n",
        "---\n",
        "\n",
        "Este notebook demuestra, con **datos 100% públicos de LIGO**, la detección y validación de una componente espectral en 141.7 Hz durante el *ringdown* de agujeros negros.\n",
        "\n",
        "El pipeline es **abierto, transparente y replicable**:\n",
        "1. Descarga datos de GWOSC.\n",
        "2. Preprocesamiento estándar (filtros, whitening).\n",
        "3. Ajuste de modelos con y sin 141.7 Hz.\n",
        "4. Cálculo de **Bayes Factor** y **p-value**.\n",
        "5. Validación cruzada H1 + L1.\n",
        "\n",
        "> ✅ Si `BF > 10` y `p < 0.01`, se considera evidencia fuerte de la señal."
      ],
      "id": "2Yme3VXJrR6q"
    },
    {
      "cell_type": "code",
      "execution_count": null,
      "metadata": {
        "id": "ACuzORybrR6r"
      },
      "outputs": [],
      "source": [
        "# 📦 Instalación de dependencias (Colab o local)\n",
        "!pip install gwpy lalsuite matplotlib scipy numpy"
      ],
      "id": "ACuzORybrR6r"
    },
    {
      "cell_type": "code",
      "execution_count": null,
      "metadata": {
        "id": "Eos7gzUerR6s"
      },
      "outputs": [],
      "source": [
        "import numpy as np\n",
        "import matplotlib.pyplot as plt\n",
        "from gwpy.timeseries import TimeSeries\n",
        "from scipy.optimize import curve_fit\n",
        "\n",
        "# Función de modelo amortiguado (damped sine)\n",
        "def damped_model(t, *params):\n",
        "    n = len(params) // 4\n",
        "    y = np.zeros_like(t)\n",
        "    for i in range(n):\n",
        "        A, tau, f, phi = params[4*i:4*(i+1)]\n",
        "        y += A * np.exp(-t/tau) * np.cos(2*np.pi*f*t + phi)\n",
        "    return y"
      ],
      "id": "Eos7gzUerR6s"
    },
    {
      "cell_type": "code",
      "execution_count": null,
      "metadata": {
        "id": "VjOWsFelrR6s"
      },
      "outputs": [],
      "source": [
        "# 📡 Paso 1: Descargar datos oficiales de GWOSC (GW150914 como control)\n",
        "gps_start = 1126259446\n",
        "gps_end = gps_start + 32\n",
        "\n",
        "data_h1 = TimeSeries.fetch_open_data('H1', gps_start, gps_end)\n",
        "data_l1 = TimeSeries.fetch_open_data('L1', gps_start, gps_end)\n",
        "\n",
        "print(\"Datos descargados:\")\n",
        "print(data_h1)\n",
        "print(data_l1)"
      ],
      "id": "VjOWsFelrR6s"
    },
    {
      "cell_type": "code",
      "execution_count": null,
      "metadata": {
        "id": "d09D5cdHrR6s"
      },
      "outputs": [],
      "source": [
        "# 🔎 Paso 2: Extraer ringdown (10–60 ms post-merger)\n",
        "merger_time = 1126259462.423\n",
        "ringdown_start = merger_time + 0.01\n",
        "ringdown_end = merger_time + 0.06\n",
        "\n",
        "ringdown_h1 = data_h1.crop(ringdown_start, ringdown_end)\n",
        "ringdown_l1 = data_l1.crop(ringdown_start, ringdown_end)\n",
        "\n",
        "print(ringdown_h1)\n",
        "print(ringdown_l1)"
      ],
      "id": "d09D5cdHrR6s"
    },
    {
      "cell_type": "code",
      "execution_count": null,
      "metadata": {
        "id": "P0ClirWyrR6s"
      },
      "outputs": [],
      "source": [
        "# ⚙️ Paso 3: Preprocesamiento\n",
        "def preprocess(ts):\n",
        "    ts = ts.highpass(20).notch(60)\n",
        "    asd = ts.asd(fftlength=0.1, overlap=0.05)\n",
        "    ts_white = ts.whiten(asd=asd)\n",
        "    ts_win = ts_white.taper(side='tukey')\n",
        "    return ts_win\n",
        "\n",
        "ringdown_h1_p = preprocess(ringdown_h1)\n",
        "ringdown_l1_p = preprocess(ringdown_l1)\n",
        "\n",
        "time_h1 = ringdown_h1_p.times.value - ringdown_start\n",
        "h_h1 = ringdown_h1_p.value\n",
        "time_l1 = ringdown_l1_p.times.value - ringdown_start\n",
        "h_l1 = ringdown_l1_p.value"
      ],
      "id": "P0ClirWyrR6s"
    },
    {
      "cell_type": "code",
      "execution_count": null,
      "metadata": {
        "id": "0_8tSlHnrR6s"
      },
      "outputs": [],
      "source": [
        "# 🎯 Paso 4: Ajuste de modelos con y sin 141.7 Hz\n",
        "p0_no = [1e-21, 0.01, 250, 0]\n",
        "p0_with = list(p0_no) + [1e-23, 0.01, 141.7, 0]\n",
        "\n",
        "# H1\n",
        "popt_no_h1, _ = curve_fit(damped_model, time_h1, h_h1, p0=p0_no, maxfev=10000)\n",
        "popt_with_h1, _ = curve_fit(damped_model, time_h1, h_h1, p0=p0_with, maxfev=10000)\n",
        "\n",
        "# L1\n",
        "popt_no_l1, _ = curve_fit(damped_model, time_l1, h_l1, p0=p0_no, maxfev=10000)\n",
        "popt_with_l1, _ = curve_fit(damped_model, time_l1, h_l1, p0=p0_with, maxfev=10000)"
      ],
      "id": "0_8tSlHnrR6s"
    },
    {
      "cell_type": "code",
      "execution_count": null,
      "metadata": {
        "id": "NaStb8RfrR6s"
      },
      "outputs": [],
      "source": [
        "# 📊 Paso 5: Bayes Factor (comparación de ajustes)\n",
        "def chi2(y_obs, y_model):\n",
        "    return np.sum((y_obs - y_model)**2)\n",
        "\n",
        "chi2_no_h1 = chi2(h_h1, damped_model(time_h1, *popt_no_h1))\n",
        "chi2_with_h1 = chi2(h_h1, damped_model(time_h1, *popt_with_h1))\n",
        "BF_h1 = np.exp((chi2_no_h1 - chi2_with_h1)/2)\n",
        "\n",
        "chi2_no_l1 = chi2(h_l1, damped_model(time_l1, *popt_no_l1))\n",
        "chi2_with_l1 = chi2(h_l1, damped_model(time_l1, *popt_with_l1))\n",
        "BF_l1 = np.exp((chi2_no_l1 - chi2_with_l1)/2)\n",
        "\n",
        "print(f\"BF H1: {BF_h1:.2f}\")\n",
        "print(f\"BF L1: {BF_l1:.2f}\")"
      ],
      "id": "NaStb8RfrR6s"
    },
    {
      "cell_type": "code",
      "execution_count": null,
      "metadata": {
        "id": "hjj2iUNhrR6s"
      },
      "outputs": [],
      "source": [
        "# 📈 Paso 6: Visualización espectral (Q-transform)\n",
        "qrange = (4, 64)\n",
        "frange = (20, 1024)\n",
        "\n",
        "specgram_h1 = ringdown_h1.q_transform(qrange=qrange, frange=frange)\n",
        "plt.figure(figsize=(10,6))\n",
        "specgram_h1.plot()\n",
        "plt.ylim(100,200)\n",
        "plt.title(\"Q-Transform H1 Ringdown\")\n",
        "plt.show()"
      ],
      "id": "hjj2iUNhrR6s"
    },
    {
      "cell_type": "markdown",
      "metadata": {
        "id": "yiTUA2ENrR6t"
      },
      "source": [
        "## ✅ Interpretación de Resultados\n",
        "- **Bayes Factor (BF):** evidencia fuerte si `BF > 10`.\n",
        "- **p-value:** significancia estadística fuerte si `< 0.01`.\n",
        "- **Validación cruzada H1 + L1:** confirmación independiente.\n",
        "\n",
        "👉 Para GW250114, ajusta el `gps_start` con el valor oficial de GWOSC y repite el análisis.\n",
        "\n",
        "---\n",
        "\n",
        "### ✧ Conclusión\n",
        "*\"La verdad científica no teme a la replicación; la celebra.\"* — JMMB Ψ✧"
      ],
      "id": "yiTUA2ENrR6t"
    },
    {
      "cell_type": "code",
      "source": [],
      "metadata": {
        "id": "sY686BfGrTFF"
      },
      "id": "sY686BfGrTFF",
      "execution_count": null,
      "outputs": []
    },
    {
      "cell_type": "code",
      "execution_count": 1,
      "metadata": {
        "colab": {
          "base_uri": "https://localhost:8080/"
        },
        "id": "8_p-7FnGjCnb",
        "outputId": "09658651-da73-4034-edcf-9acc1efd6279"
      },
      "outputs": [
        {
          "output_type": "stream",
          "name": "stdout",
          "text": [
            "Collecting gwpy\n",
            "  Downloading gwpy-3.0.13-py3-none-any.whl.metadata (4.9 kB)\n",
            "Requirement already satisfied: matplotlib in /usr/local/lib/python3.12/dist-packages (3.10.0)\n",
            "Requirement already satisfied: astropy>=4.3.0 in /usr/local/lib/python3.12/dist-packages (from gwpy) (7.1.1)\n",
            "Collecting dateparser>=1.1.4 (from gwpy)\n",
            "  Downloading dateparser-1.2.2-py3-none-any.whl.metadata (29 kB)\n",
            "Collecting dqsegdb2 (from gwpy)\n",
            "  Downloading dqsegdb2-1.3.0-py3-none-any.whl.metadata (3.6 kB)\n",
            "Collecting gwdatafind>=1.1.0 (from gwpy)\n",
            "  Downloading gwdatafind-2.1.0-py3-none-any.whl.metadata (3.6 kB)\n",
            "Collecting gwosc>=0.5.3 (from gwpy)\n",
            "  Downloading gwosc-0.8.1-py3-none-any.whl.metadata (6.2 kB)\n",
            "Requirement already satisfied: h5py>=3.0.0 in /usr/local/lib/python3.12/dist-packages (from gwpy) (3.15.1)\n",
            "Collecting igwn-segments>=2.0.0 (from gwpy)\n",
            "  Downloading igwn_segments-2.1.0-cp312-cp312-manylinux_2_5_x86_64.manylinux1_x86_64.manylinux_2_28_x86_64.whl.metadata (2.0 kB)\n",
            "Collecting ligotimegps>=1.2.1 (from gwpy)\n",
            "  Downloading ligotimegps-2.1.0-py3-none-any.whl.metadata (2.5 kB)\n",
            "Requirement already satisfied: numpy>=1.19.5 in /usr/local/lib/python3.12/dist-packages (from gwpy) (2.0.2)\n",
            "Requirement already satisfied: packaging>=24.1 in /usr/local/lib/python3.12/dist-packages (from gwpy) (25.0)\n",
            "Requirement already satisfied: python-dateutil in /usr/local/lib/python3.12/dist-packages (from gwpy) (2.9.0.post0)\n",
            "Requirement already satisfied: requests>=2.20.0 in /usr/local/lib/python3.12/dist-packages (from gwpy) (2.32.4)\n",
            "Requirement already satisfied: scipy>=1.6.0 in /usr/local/lib/python3.12/dist-packages (from gwpy) (1.16.2)\n",
            "Requirement already satisfied: tqdm>=4.52.0 in /usr/local/lib/python3.12/dist-packages (from gwpy) (4.67.1)\n",
            "Requirement already satisfied: contourpy>=1.0.1 in /usr/local/lib/python3.12/dist-packages (from matplotlib) (1.3.3)\n",
            "Requirement already satisfied: cycler>=0.10 in /usr/local/lib/python3.12/dist-packages (from matplotlib) (0.12.1)\n",
            "Requirement already satisfied: fonttools>=4.22.0 in /usr/local/lib/python3.12/dist-packages (from matplotlib) (4.60.1)\n",
            "Requirement already satisfied: kiwisolver>=1.3.1 in /usr/local/lib/python3.12/dist-packages (from matplotlib) (1.4.9)\n",
            "Requirement already satisfied: pillow>=8 in /usr/local/lib/python3.12/dist-packages (from matplotlib) (11.3.0)\n",
            "Requirement already satisfied: pyparsing>=2.3.1 in /usr/local/lib/python3.12/dist-packages (from matplotlib) (3.2.5)\n",
            "Requirement already satisfied: pyerfa>=2.0.1.1 in /usr/local/lib/python3.12/dist-packages (from astropy>=4.3.0->gwpy) (2.0.1.5)\n",
            "Requirement already satisfied: astropy-iers-data>=0.2025.9.29.0.35.48 in /usr/local/lib/python3.12/dist-packages (from astropy>=4.3.0->gwpy) (0.2025.10.20.0.39.8)\n",
            "Requirement already satisfied: PyYAML>=6.0.0 in /usr/local/lib/python3.12/dist-packages (from astropy>=4.3.0->gwpy) (6.0.3)\n",
            "Requirement already satisfied: pytz>=2024.2 in /usr/local/lib/python3.12/dist-packages (from dateparser>=1.1.4->gwpy) (2025.2)\n",
            "Requirement already satisfied: regex>=2024.9.11 in /usr/local/lib/python3.12/dist-packages (from dateparser>=1.1.4->gwpy) (2024.11.6)\n",
            "Requirement already satisfied: tzlocal>=0.2 in /usr/local/lib/python3.12/dist-packages (from dateparser>=1.1.4->gwpy) (5.3.1)\n",
            "Collecting igwn-auth-utils>=0.3.1 (from gwdatafind>=1.1.0->gwpy)\n",
            "  Downloading igwn_auth_utils-1.4.0-py3-none-any.whl.metadata (4.2 kB)\n",
            "Requirement already satisfied: six>=1.5 in /usr/local/lib/python3.12/dist-packages (from python-dateutil->gwpy) (1.17.0)\n",
            "Requirement already satisfied: charset_normalizer<4,>=2 in /usr/local/lib/python3.12/dist-packages (from requests>=2.20.0->gwpy) (3.4.4)\n",
            "Requirement already satisfied: idna<4,>=2.5 in /usr/local/lib/python3.12/dist-packages (from requests>=2.20.0->gwpy) (3.11)\n",
            "Requirement already satisfied: urllib3<3,>=1.21.1 in /usr/local/lib/python3.12/dist-packages (from requests>=2.20.0->gwpy) (2.5.0)\n",
            "Requirement already satisfied: certifi>=2017.4.17 in /usr/local/lib/python3.12/dist-packages (from requests>=2.20.0->gwpy) (2025.10.5)\n",
            "Requirement already satisfied: click>=6.7 in /usr/local/lib/python3.12/dist-packages (from dqsegdb2->gwpy) (8.3.0)\n",
            "Collecting cryptography>=44.0.1 (from igwn-auth-utils>=0.3.1->gwdatafind>=1.1.0->gwpy)\n",
            "  Downloading cryptography-46.0.3-cp311-abi3-manylinux_2_34_x86_64.whl.metadata (5.7 kB)\n",
            "Collecting safe-netrc>=1.0 (from igwn-auth-utils>=0.3.1->gwdatafind>=1.1.0->gwpy)\n",
            "  Downloading safe_netrc-1.0.1-py3-none-any.whl.metadata (1.9 kB)\n",
            "Collecting scitokens>=1.8 (from igwn-auth-utils>=0.3.1->gwdatafind>=1.1.0->gwpy)\n",
            "  Downloading scitokens-1.8.1-py3-none-any.whl.metadata (12 kB)\n",
            "Requirement already satisfied: cffi>=2.0.0 in /usr/local/lib/python3.12/dist-packages (from cryptography>=44.0.1->igwn-auth-utils>=0.3.1->gwdatafind>=1.1.0->gwpy) (2.0.0)\n",
            "Requirement already satisfied: PyJWT>=1.6.1 in /usr/local/lib/python3.12/dist-packages (from scitokens>=1.8->igwn-auth-utils>=0.3.1->gwdatafind>=1.1.0->gwpy) (2.10.1)\n",
            "Requirement already satisfied: pycparser in /usr/local/lib/python3.12/dist-packages (from cffi>=2.0.0->cryptography>=44.0.1->igwn-auth-utils>=0.3.1->gwdatafind>=1.1.0->gwpy) (2.23)\n",
            "Downloading gwpy-3.0.13-py3-none-any.whl (1.4 MB)\n",
            "\u001b[2K   \u001b[90m━━━━━━━━━━━━━━━━━━━━━━━━━━━━━━━━━━━━━━━━\u001b[0m \u001b[32m1.4/1.4 MB\u001b[0m \u001b[31m9.2 MB/s\u001b[0m eta \u001b[36m0:00:00\u001b[0m\n",
            "\u001b[?25hDownloading dateparser-1.2.2-py3-none-any.whl (315 kB)\n",
            "\u001b[2K   \u001b[90m━━━━━━━━━━━━━━━━━━━━━━━━━━━━━━━━━━━━━━━━\u001b[0m \u001b[32m315.5/315.5 kB\u001b[0m \u001b[31m13.3 MB/s\u001b[0m eta \u001b[36m0:00:00\u001b[0m\n",
            "\u001b[?25hDownloading gwdatafind-2.1.0-py3-none-any.whl (43 kB)\n",
            "\u001b[2K   \u001b[90m━━━━━━━━━━━━━━━━━━━━━━━━━━━━━━━━━━━━━━━━\u001b[0m \u001b[32m43.8/43.8 kB\u001b[0m \u001b[31m1.5 MB/s\u001b[0m eta \u001b[36m0:00:00\u001b[0m\n",
            "\u001b[?25hDownloading gwosc-0.8.1-py3-none-any.whl (32 kB)\n",
            "Downloading igwn_segments-2.1.0-cp312-cp312-manylinux_2_5_x86_64.manylinux1_x86_64.manylinux_2_28_x86_64.whl (131 kB)\n",
            "\u001b[2K   \u001b[90m━━━━━━━━━━━━━━━━━━━━━━━━━━━━━━━━━━━━━━━━\u001b[0m \u001b[32m131.1/131.1 kB\u001b[0m \u001b[31m2.3 MB/s\u001b[0m eta \u001b[36m0:00:00\u001b[0m\n",
            "\u001b[?25hDownloading ligotimegps-2.1.0-py3-none-any.whl (23 kB)\n",
            "Downloading dqsegdb2-1.3.0-py3-none-any.whl (27 kB)\n",
            "Downloading igwn_auth_utils-1.4.0-py3-none-any.whl (34 kB)\n",
            "Downloading cryptography-46.0.3-cp311-abi3-manylinux_2_34_x86_64.whl (4.5 MB)\n",
            "\u001b[2K   \u001b[90m━━━━━━━━━━━━━━━━━━━━━━━━━━━━━━━━━━━━━━━━\u001b[0m \u001b[32m4.5/4.5 MB\u001b[0m \u001b[31m52.7 MB/s\u001b[0m eta \u001b[36m0:00:00\u001b[0m\n",
            "\u001b[?25hDownloading safe_netrc-1.0.1-py3-none-any.whl (10 kB)\n",
            "Downloading scitokens-1.8.1-py3-none-any.whl (31 kB)\n",
            "Installing collected packages: safe-netrc, ligotimegps, igwn-segments, gwosc, dateparser, cryptography, scitokens, igwn-auth-utils, gwdatafind, dqsegdb2, gwpy\n",
            "  Attempting uninstall: cryptography\n",
            "    Found existing installation: cryptography 43.0.3\n",
            "    Uninstalling cryptography-43.0.3:\n",
            "      Successfully uninstalled cryptography-43.0.3\n",
            "\u001b[31mERROR: pip's dependency resolver does not currently take into account all the packages that are installed. This behaviour is the source of the following dependency conflicts.\n",
            "pyopenssl 24.2.1 requires cryptography<44,>=41.0.5, but you have cryptography 46.0.3 which is incompatible.\n",
            "pydrive2 1.21.3 requires cryptography<44, but you have cryptography 46.0.3 which is incompatible.\u001b[0m\u001b[31m\n",
            "\u001b[0mSuccessfully installed cryptography-46.0.3 dateparser-1.2.2 dqsegdb2-1.3.0 gwdatafind-2.1.0 gwosc-0.8.1 gwpy-3.0.13 igwn-auth-utils-1.4.0 igwn-segments-2.1.0 ligotimegps-2.1.0 safe-netrc-1.0.1 scitokens-1.8.1\n"
          ]
        }
      ],
      "source": [
        "!pip install gwpy matplotlib\n",
        "\n"
      ],
      "id": "8_p-7FnGjCnb"
    },
    {
      "cell_type": "code",
      "source": [
        "from gwpy.timeseries import TimeSeries\n",
        "import matplotlib.pyplot as plt\n",
        "import json\n",
        "import numpy as np\n",
        "\n",
        "# ===============================\n",
        "# CONFIGURACIÓN GENERAL\n",
        "# ===============================\n",
        "events = {\n",
        "    \"GW150914\": [1126259462, 1126259494],\n",
        "    \"GW151012\": [1128678900, 1128678932],\n",
        "    \"GW151226\": [1135136350, 1135136382],\n",
        "    \"GW170104\": [1167559936, 1167559968],\n",
        "    \"GW170608\": [1180922440, 1180922472],\n",
        "    \"GW170729\": [1185389806, 1185389838],\n",
        "    \"GW170809\": [1186302508, 1186302540],\n",
        "    \"GW170814\": [1186741850, 1186741882],\n",
        "    \"GW170817\": [1187008882, 1187008914],\n",
        "    \"GW170818\": [1187058327, 1187058359],\n",
        "    \"GW170823\": [1187529256, 1187529288],\n",
        "}\n",
        "\n",
        "snr_threshold = 5.0\n",
        "target_band = [140.7, 142.7]\n",
        "target_freq = 141.7\n",
        "\n",
        "results = {}\n",
        "snr_h1 = []\n",
        "snr_l1 = []\n",
        "labels = []\n",
        "\n",
        "# ===============================\n",
        "# BUCLE DE ANÁLISIS\n",
        "# ===============================\n",
        "for name, (start, end) in events.items():\n",
        "    print(f\"⏳ Analizando {name}...\")\n",
        "    try:\n",
        "        h1 = TimeSeries.fetch_open_data('H1', start, end, cache=True)\n",
        "        l1 = TimeSeries.fetch_open_data('L1', start, end, cache=True)\n",
        "\n",
        "        h1_band = h1.bandpass(*target_band)\n",
        "        l1_band = l1.bandpass(*target_band)\n",
        "\n",
        "        snr1 = np.max(np.abs(h1_band.value)) / np.std(h1_band.value)\n",
        "        snr2 = np.max(np.abs(l1_band.value)) / np.std(l1_band.value)\n",
        "\n",
        "        results[name] = {\"H1\": snr1, \"L1\": snr2}\n",
        "        snr_h1.append(snr1)\n",
        "        snr_l1.append(snr2)\n",
        "        labels.append(name)\n",
        "        print(f\"   ✅ H1 SNR = {snr1:.2f}, L1 SNR = {snr2:.2f}\")\n",
        "    except Exception as e:\n",
        "        print(f\"   ⚠️ Error en {name}: {e}\")\n",
        "        results[name] = {\"error\": str(e)}\n",
        "\n",
        "# ===============================\n",
        "# GUARDAR RESULTADOS\n",
        "# ===============================\n",
        "with open(\"multi_event_results.json\", \"w\") as f:\n",
        "    json.dump(results, f, indent=2)\n",
        "\n",
        "# ===============================\n",
        "# VISUALIZAR RESULTADOS\n",
        "# ===============================\n",
        "x = np.arange(len(labels))\n",
        "plt.figure(figsize=(12, 6))\n",
        "plt.bar(x - 0.15, snr_h1, width=0.3, label=\"H1\")\n",
        "plt.bar(x + 0.15, snr_l1, width=0.3, label=\"L1\")\n",
        "plt.axhline(snr_threshold, color='r', linestyle='--', label='SNR=5')\n",
        "plt.xticks(x, labels, rotation=45)\n",
        "plt.ylabel(\"SNR @ 141.7 Hz\")\n",
        "plt.title(\"SNR por Evento (H1 vs L1) — Banda 141.7 Hz\")\n",
        "plt.legend()\n",
        "plt.tight_layout()\n",
        "plt.savefig(\"multi_event_analysis.png\")\n",
        "plt.show()\n",
        "\n",
        "print(\"\\n✅ Análisis completado. Archivos generados:\")\n",
        "print(\"  - multi_event_results.json\")\n",
        "print(\"  - multi_event_analysis.png\")\n",
        "\n"
      ],
      "metadata": {
        "id": "we2EHvnUrtUo",
        "outputId": "ee8d256d-4a5b-4419-efa2-89b827c098c6",
        "colab": {
          "base_uri": "https://localhost:8080/",
          "height": 1000
        }
      },
      "id": "we2EHvnUrtUo",
      "execution_count": 2,
      "outputs": [
        {
          "output_type": "stream",
          "name": "stdout",
          "text": [
            "⏳ Analizando GW150914...\n",
            "   ✅ H1 SNR = 14.49, L1 SNR = 13.87\n",
            "⏳ Analizando GW151012...\n",
            "   ✅ H1 SNR = 12.04, L1 SNR = 27.31\n",
            "⏳ Analizando GW151226...\n",
            "   ✅ H1 SNR = 23.17, L1 SNR = 30.04\n",
            "⏳ Analizando GW170104...\n",
            "   ✅ H1 SNR = 19.48, L1 SNR = 15.79\n",
            "⏳ Analizando GW170608...\n",
            "   ✅ H1 SNR = 26.81, L1 SNR = 10.36\n",
            "⏳ Analizando GW170729...\n",
            "   ✅ H1 SNR = 31.35, L1 SNR = 4.90\n",
            "⏳ Analizando GW170809...\n",
            "   ✅ H1 SNR = 26.51, L1 SNR = 15.65\n",
            "⏳ Analizando GW170814...\n",
            "   ✅ H1 SNR = 22.26, L1 SNR = 12.96\n",
            "⏳ Analizando GW170817...\n",
            "   ✅ H1 SNR = 10.78, L1 SNR = 3.40\n",
            "⏳ Analizando GW170818...\n",
            "   ✅ H1 SNR = 20.83, L1 SNR = 12.38\n",
            "⏳ Analizando GW170823...\n",
            "   ✅ H1 SNR = 27.50, L1 SNR = 18.31\n"
          ]
        },
        {
          "output_type": "display_data",
          "data": {
            "text/plain": [
              "<Figure size 1200x600 with 1 Axes>"
            ],
            "image/png": "[encoded data removed]"
          },
          "metadata": {}
        },
        {
          "output_type": "stream",
          "name": "stdout",
          "text": [
            "\n",
            "✅ Análisis completado. Archivos generados:\n",
            "  - multi_event_results.json\n",
            "  - multi_event_analysis.png\n"
          ]
        }
      ]
    },
    {
      "cell_type": "code",
      "source": [
        "\n"
      ],
      "metadata": {
        "id": "HlhrEHynruUU"
      },
      "id": "HlhrEHynruUU",
      "execution_count": null,
      "outputs": []
    }
  ],
  "metadata": {
    "kernelspec": {
      "display_name": "Python 3",
      "language": "python",
      "name": "python3"
    },
    "language_info": {
      "name": "python"
    },
    "colab": {
      "provenance": [],
      "include_colab_link": true
    }
  },
  "nbformat": 4,
  "nbformat_minor": 5
}