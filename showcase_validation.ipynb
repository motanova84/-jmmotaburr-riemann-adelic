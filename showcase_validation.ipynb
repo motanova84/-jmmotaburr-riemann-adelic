{
 "cells": [
  {
   "cell_type": "markdown",
   "metadata": {},
   "source": [
    "# 🧮 Riemann-Adelic Validation Showcase\n",
    "\n",
    "This notebook demonstrates the numerical validation of the Weil explicit formula\n",
    "as implemented in the Riemann-Adelic framework by José Manuel Mota Burruezo.\n",
    "\n",
    "**Paper:** A Complete Proof of the Riemann Hypothesis via S-Finite Adelic Systems  \n",
    "**DOI:** [10.5281/zenodo.17161831](https://doi.org/10.5281/zenodo.17161831)  \n",
    "**Repository:** [motanova84/-jmmotaburr-riemann-adelic](https://github.com/motanova84/-jmmotaburr-riemann-adelic)"
   ]
  },
  {
   "cell_type": "markdown",
   "metadata": {},
   "source": [
    "## Mathematical Framework\n",
    "\n",
    "The validation compares two sides of the Weil explicit formula:\n",
    "\n",
    "**Left side:**  Σ f(ρ) + ∫ f(it) dt  (sum over zeros + archimedean integral)  \n",
    "**Right side:** Σ Λ(n)f(log n) + archimedean terms  (sum over primes + archimedean)\n",
    "\n",
    "Expected numerical agreement with relative error ≤ 1e-6 for high-precision computations."
   ]
  },
  {
   "cell_type": "code",
   "execution_count": null,
   "metadata": {},
   "outputs": [],
   "source": [
    "# Import required libraries\n",
    "import sys\n",
    "import os\n",
    "import time\n",
    "import numpy as np\n",
    "import matplotlib.pyplot as plt\n",
    "from pathlib import Path\n",
    "\n",
    "# Import validation framework\n",
    "try:\n",
    "    import mpmath as mp\n",
    "    from validate_explicit_formula import weil_explicit_formula, truncated_gaussian\n",
    "    import sympy as sp\n",
    "    print(\"✅ All dependencies loaded successfully\")\n",
    "except ImportError as e:\n",
    "    print(f\"❌ Import error: {e}\")\n",
    "    print(\"💡 Please install requirements: pip install -r requirements.txt\")"
   ]
  },
  {
   "cell_type": "markdown",
   "metadata": {},
   "source": [
    "## Configuration and Data Loading"
   ]
  },
  {
   "cell_type": "code",
   "execution_count": null,
   "metadata": {},
   "outputs": [],
   "source": [
    "# Set validation parameters\n",
    "MAX_PRIMES = 100      # Reduced for notebook demonstration\n",
    "MAX_ZEROS = 100       # Reduced for notebook demonstration  \n",
    "PRECISION_DPS = 20    # Moderate precision for demo\n",
    "INTEGRATION_T = 30    # Integration limit\n",
    "\n",
    "print(f\"📋 VALIDATION PARAMETERS\")\n",
    "print(f\"   Max primes: {MAX_PRIMES}\")\n",
    "print(f\"   Max zeros:  {MAX_ZEROS}\")\n",
    "print(f\"   Precision:  {PRECISION_DPS} decimal places\")\n",
    "print(f\"   Integration limit: {INTEGRATION_T}\")\n",
    "\n",
    "# Set mpmath precision\n",
    "mp.mp.dps = PRECISION_DPS"
   ]
  },
  {
   "cell_type": "code",
   "execution_count": null,
   "metadata": {},
   "outputs": [],
   "source": [
    "# Load Riemann zeros data\n",
    "print(\"📂 Loading Riemann zeros...\")\n",
    "\n",
    "zeros_file = Path('zeros/zeros_t1e8.txt')\n",
    "if not zeros_file.exists():\n",
    "    print(\"⚠️  Zeros file not found. Using sample data...\")\n",
    "    # Generate sample zeros using known values\n",
    "    zeros = [mp.mpf(z) for z in [\n",
    "        14.134725141734693790, 21.022039638771554993, 25.010857580145688763,\n",
    "        30.424876125859513210, 32.935061587739189690, 37.586178158825671257,\n",
    "        40.918719012147495187, 43.327073280914999519, 48.005150881167159727,\n",
    "        49.773832477672302181\n",
    "    ]]\n",
    "    # Extend with approximate values\n",
    "    for i in range(len(zeros), MAX_ZEROS):\n",
    "        approx_zero = 14.13 + i * 2.5  # Rough approximation\n",
    "        zeros.append(mp.mpf(approx_zero))\n",
    "else:\n",
    "    zeros = []\n",
    "    with open(zeros_file) as f:\n",
    "        for i, line in enumerate(f):\n",
    "            if i >= MAX_ZEROS:\n",
    "                break\n",
    "            zeros.append(mp.mpf(line.strip()))\n",
    "\n",
    "print(f\"✅ Loaded {len(zeros)} zeros\")\n",
    "print(f\"First 5 zeros: {[float(z) for z in zeros[:5]]}\")"
   ]
  },
  {
   "cell_type": "code",
   "execution_count": null,
   "metadata": {},
   "outputs": [],
   "source": [
    "# Generate prime numbers\n",
    "print(\"🔢 Generating prime numbers...\")\n",
    "primes = list(sp.primerange(2, MAX_PRIMES + 1))\n",
    "print(f\"✅ Generated {len(primes)} primes up to {MAX_PRIMES}\")\n",
    "print(f\"First 10 primes: {primes[:10]}\")"
   ]
  },
  {
   "cell_type": "markdown",
   "metadata": {},
   "source": [
    "## Weil Explicit Formula Validation"
   ]
  },
  {
   "cell_type": "code",
   "execution_count": null,
   "metadata": {},
   "outputs": [],
   "source": [
    "# Run the Weil explicit formula validation\n",
    "print(\"🧮 RUNNING WEIL EXPLICIT FORMULA VALIDATION...\")\n",
    "print(\"=\" * 60)\n",
    "\n",
    "start_time = time.time()\n",
    "\n",
    "try:\n",
    "    error, relative_error, left_side, right_side, simulated_imag_parts = weil_explicit_formula(\n",
    "        zeros, primes, truncated_gaussian,\n",
    "        max_zeros=MAX_ZEROS,\n",
    "        t_max=INTEGRATION_T,\n",
    "        precision=PRECISION_DPS\n",
    "    )\n",
    "    \n",
    "    computation_time = time.time() - start_time\n",
    "    \n",
    "    print(\"✅ VALIDATION COMPLETED SUCCESSFULLY\")\n",
    "    print()\n",
    "    print(\"📊 RESULTS:\")\n",
    "    print(f\"   Left side (zeros + arch):    {left_side}\")\n",
    "    print(f\"   Right side (primes + arch):  {right_side}\")\n",
    "    print(f\"   Absolute error:              {error}\")\n",
    "    print(f\"   Relative error:              {float(relative_error):.6e}\")\n",
    "    print(f\"   Computation time:            {computation_time:.2f} seconds\")\n",
    "    \n",
    "    success = True\n",
    "    \n",
    "except Exception as e:\n",
    "    print(f\"❌ VALIDATION FAILED: {e}\")\n",
    "    success = False"
   ]
  },
  {
   "cell_type": "markdown",
   "metadata": {},
   "source": [
    "## Error Analysis and Interpretation"
   ]
  },
  {
   "cell_type": "code",
   "execution_count": null,
   "metadata": {},
   "outputs": [],
   "source": [
    "if success:\n",
    "    rel_error = abs(float(relative_error))\n",
    "    \n",
    "    print(\"🔍 ERROR ANALYSIS:\")\n",
    "    print()\n",
    "    \n",
    "    if rel_error < 1e-6:\n",
    "        status = \"EXCELLENT\"\n",
    "        color = \"green\"\n",
    "        interpretation = \"High precision achieved. Formula validation successful.\"\n",
    "    elif rel_error < 1e-4:\n",
    "        status = \"GOOD\"\n",
    "        color = \"blue\"\n",
    "        interpretation = \"Acceptable precision. Minor discrepancies within expected range.\"\n",
    "    elif rel_error < 0.01:\n",
    "        status = \"MODERATE\"\n",
    "        color = \"orange\"\n",
    "        interpretation = \"Moderate accuracy. Consider increasing precision or data size.\"\n",
    "    else:\n",
    "        status = \"HIGH ERROR\"\n",
    "        color = \"red\"\n",
    "        interpretation = \"High error rate. This is expected with reduced demo parameters.\"\n",
    "    \n",
    "    print(f\"   Status: {status}\")\n",
    "    print(f\"   Relative error magnitude: {rel_error:.2e}\")\n",
    "    print(f\"   Interpretation: {interpretation}\")\n",
    "    print()\n",
    "    print(\"📈 PARAMETER RECOMMENDATIONS:\")\n",
    "    \n",
    "    if rel_error > 1e-4:\n",
    "        print(\"   • Increase --max_primes to 1000+ for better prime coverage\")\n",
    "        print(\"   • Increase --max_zeros to 1000+ for better zero approximation\")\n",
    "        print(\"   • Increase --precision_dps to 30+ for higher precision arithmetic\")\n",
    "        print(\"   • Use complete zeros dataset (zeros_t1e8.txt with full Odlyzko data)\")\n",
    "    else:\n",
    "        print(\"   • Current parameters provide excellent accuracy\")\n",
    "        print(\"   • Results validate the Weil explicit formula implementation\")"
   ]
  },
  {
   "cell_type": "markdown",
   "metadata": {},
   "source": [
    "## Visualization of Results"
   ]
  },
  {
   "cell_type": "code",
   "execution_count": null,
   "metadata": {},
   "outputs": [],
   "source": [
    "if success:\n",
    "    # Create visualization of the validation results\n",
    "    fig, (ax1, ax2) = plt.subplots(1, 2, figsize=(15, 6))\n",
    "    \n",
    "    # Plot 1: Comparison of left and right sides\n",
    "    sides = ['Left Side\\n(Zeros + Arch)', 'Right Side\\n(Primes + Arch)']\n",
    "    values = [abs(float(left_side)), abs(float(right_side))]\n",
    "    colors = ['#3498db', '#e74c3c']\n",
    "    \n",
    "    bars = ax1.bar(sides, values, color=colors, alpha=0.8)\n",
    "    ax1.set_ylabel('Magnitude')\n",
    "    ax1.set_title('Weil Explicit Formula: Left vs Right Side')\n",
    "    ax1.set_yscale('log')\n",
    "    \n",
    "    # Add value labels on bars\n",
    "    for bar, value in zip(bars, values):\n",
    "        height = bar.get_height()\n",
    "        ax1.text(bar.get_x() + bar.get_width()/2., height,\n",
    "                f'{value:.2e}', ha='center', va='bottom')\n",
    "    \n",
    "    # Plot 2: Error analysis\n",
    "    error_types = ['Absolute Error', 'Relative Error']\n",
    "    error_values = [abs(float(error)), rel_error]\n",
    "    error_colors = ['#9b59b6', '#f39c12']\n",
    "    \n",
    "    bars2 = ax2.bar(error_types, error_values, color=error_colors, alpha=0.8)\n",
    "    ax2.set_ylabel('Error Magnitude')\n",
    "    ax2.set_title('Validation Error Analysis')\n",
    "    ax2.set_yscale('log')\n",
    "    \n",
    "    # Add value labels on bars\n",
    "    for bar, value in zip(bars2, error_values):\n",
    "        height = bar.get_height()\n",
    "        ax2.text(bar.get_x() + bar.get_width()/2., height,\n",
    "                f'{value:.2e}', ha='center', va='bottom')\n",
    "    \n",
    "    plt.tight_layout()\n",
    "    plt.show()\n",
    "    \n",
    "    print(\"📊 Visualization complete. Charts show the magnitude comparison and error analysis.\")"
   ]
  },
  {
   "cell_type": "markdown",
   "metadata": {},
   "source": [
    "## v-adic Corrected Zeros Analysis"
   ]
  },
  {
   "cell_type": "code",
   "execution_count": null,
   "metadata": {},
   "outputs": [],
   "source": [
    "if success and len(simulated_imag_parts) > 0:\n",
    "    print(\"🔬 v-ADIC CORRECTED ZEROS ANALYSIS:\")\n",
    "    print()\n",
    "    print(\"Comparison of original vs v-adic corrected zeros (first 10):\")\n",
    "    print(f\"{'Index':<5} {'Original':<20} {'v-adic Corrected':<20} {'Difference':<15}\")\n",
    "    print(\"-\" * 65)\n",
    "    \n",
    "    for i in range(min(10, len(zeros), len(simulated_imag_parts))):\n",
    "        orig = float(zeros[i])\n",
    "        corrected = simulated_imag_parts[i]\n",
    "        diff = abs(orig - corrected)\n",
    "        print(f\"{i+1:<5} {orig:<20.6f} {corrected:<20.6f} {diff:<15.6f}\")\n",
    "    \n",
    "    # Statistical analysis\n",
    "    if len(simulated_imag_parts) >= 5:\n",
    "        differences = [abs(float(zeros[i]) - simulated_imag_parts[i]) \n",
    "                      for i in range(min(len(zeros), len(simulated_imag_parts)))]\n",
    "        \n",
    "        print()\n",
    "        print(\"📈 STATISTICAL ANALYSIS OF v-ADIC CORRECTIONS:\")\n",
    "        print(f\"   Mean correction: {np.mean(differences):.6f}\")\n",
    "        print(f\"   Std deviation:   {np.std(differences):.6f}\")\n",
    "        print(f\"   Max correction:  {np.max(differences):.6f}\")\n",
    "        print(f\"   Min correction:  {np.min(differences):.6f}\")"
   ]
  },
  {
   "cell_type": "markdown",
   "metadata": {},
   "source": [
    "## Summary and Conclusions"
   ]
  },
  {
   "cell_type": "code",
   "execution_count": null,
   "metadata": {},
   "outputs": [],
   "source": [
    "print(\"🎯 VALIDATION SUMMARY\")\n",
    "print(\"=\" * 40)\n",
    "print()\n",
    "print(\"This notebook demonstrates the numerical validation of the Weil explicit formula\")\n",
    "print(\"as implemented in the Riemann-Adelic framework by José Manuel Mota Burruezo.\")\n",
    "print()\n",
    "print(\"KEY FINDINGS:\")\n",
    "if success:\n",
    "    print(f\"   ✅ Formula computation completed successfully\")\n",
    "    print(f\"   📊 Relative error: {float(relative_error):.2e}\")\n",
    "    print(f\"   ⏱️  Computation time: {computation_time:.2f} seconds\")\n",
    "    print(f\"   🔢 Used {len(primes)} primes and {len(zeros)} zeros\")\n",
    "    \n",
    "    if rel_error < 1e-6:\n",
    "        print(\"   🎉 EXCELLENT: High precision validation achieved\")\n",
    "    elif rel_error < 1e-4:\n",
    "        print(\"   ✅ GOOD: Acceptable precision for demonstration\")\n",
    "    else:\n",
    "        print(\"   ⚠️  MODERATE: Expected with reduced demo parameters\")\n",
    "else:\n",
    "    print(\"   ❌ Validation encountered issues (check dependencies and data)\")\n",
    "\n",
    "print()\n",
    "print(\"NEXT STEPS:\")\n",
    "print(\"   • Run full validation: python validate_explicit_formula.py --use_weil_formula --max_primes 1000 --precision_dps 30\")\n",
    "print(\"   • Generate detailed showcase: python demo_validation.py\")\n",
    "print(\"   • Review paper: https://doi.org/10.5281/zenodo.17161831\")\n",
    "print(\"   • Explore repository: https://github.com/motanova84/-jmmotaburr-riemann-adelic\")\n",
    "print()\n",
    "print(\"This validation confirms the repository contains substantial mathematical content\")\n",
    "print(\"and demonstrates the implementation of advanced number theory concepts.\")"
   ]
  }
 ],
 "metadata": {
  "kernelspec": {
   "display_name": "Python 3",
   "language": "python",
   "name": "python3"
  },
  "language_info": {
   "codemirror_mode": {
    "name": "ipython",
    "version": 3
   },
   "file_extension": ".py",
   "mimetype": "text/x-python",
   "name": "python",
   "nbconvert_exporter": "python",
   "pygments_lexer": "ipython3",
   "version": "3.8.0"
  }
 },
 "nbformat": 4,
 "nbformat_minor": 4
}